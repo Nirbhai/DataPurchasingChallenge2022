{
 "cells": [
  {
   "cell_type": "markdown",
   "id": "ba73f5ea",
   "metadata": {},
   "source": []
  },
  {
   "cell_type": "code",
   "execution_count": 1,
   "id": "08eab706",
   "metadata": {},
   "outputs": [
    {
     "name": "stdout",
     "output_type": "stream",
     "text": [
      "\n",
      "     active environment : dpc2022\n",
      "    active env location : /Users/nirbhaisingh/opt/anaconda3/envs/dpc2022\n",
      "            shell level : 2\n",
      "       user config file : /Users/nirbhaisingh/.condarc\n",
      " populated config files : /Users/nirbhaisingh/.condarc\n",
      "          conda version : 4.11.0\n",
      "    conda-build version : 3.21.5\n",
      "         python version : 3.9.7.final.0\n",
      "       virtual packages : __osx=10.16=0\n",
      "                          __unix=0=0\n",
      "                          __archspec=1=x86_64\n",
      "       base environment : /Users/nirbhaisingh/opt/anaconda3  (writable)\n",
      "      conda av data dir : /Users/nirbhaisingh/opt/anaconda3/etc/conda\n",
      "  conda av metadata url : None\n",
      "           channel URLs : https://repo.anaconda.com/pkgs/main/osx-64\n",
      "                          https://repo.anaconda.com/pkgs/main/noarch\n",
      "                          https://repo.anaconda.com/pkgs/r/osx-64\n",
      "                          https://repo.anaconda.com/pkgs/r/noarch\n",
      "          package cache : /Users/nirbhaisingh/opt/anaconda3/pkgs\n",
      "                          /Users/nirbhaisingh/.conda/pkgs\n",
      "       envs directories : /Users/nirbhaisingh/opt/anaconda3/envs\n",
      "                          /Users/nirbhaisingh/.conda/envs\n",
      "               platform : osx-64\n",
      "             user-agent : conda/4.11.0 requests/2.26.0 CPython/3.9.7 Darwin/21.3.0 OSX/10.16\n",
      "                UID:GID : 501:20\n",
      "             netrc file : None\n",
      "           offline mode : False\n",
      "\n",
      "Collecting package metadata (repodata.json): done\n",
      "Solving environment: done\n",
      "#\n",
      "# To activate this environment, use\n",
      "#\n",
      "#     $ conda activate dpc2022\n",
      "#\n",
      "# To deactivate an active environment, use\n",
      "#\n",
      "#     $ conda deactivate\n",
      "\n"
     ]
    }
   ],
   "source": [
    "!conda info\n",
    "!conda env update --prune"
   ]
  },
  {
   "cell_type": "code",
   "execution_count": 2,
   "id": "a7a6625f",
   "metadata": {},
   "outputs": [],
   "source": [
    "import pandas as pd\n",
    "import numpy as np"
   ]
  },
  {
   "cell_type": "code",
   "execution_count": null,
   "id": "1013eb9e",
   "metadata": {},
   "outputs": [],
   "source": [
    "classes = ['scratch_small',\n",
    "          'scratch_large',\n",
    "          'dent_small',\n",
    "          'dent_large']\n",
    "\n",
    "def set_details(filename: string) -> "
   ]
  }
 ],
 "metadata": {
  "kernelspec": {
   "display_name": "Python 3 (ipykernel)",
   "language": "python",
   "name": "python3"
  },
  "language_info": {
   "codemirror_mode": {
    "name": "ipython",
    "version": 3
   },
   "file_extension": ".py",
   "mimetype": "text/x-python",
   "name": "python",
   "nbconvert_exporter": "python",
   "pygments_lexer": "ipython3",
   "version": "3.9.7"
  }
 },
 "nbformat": 4,
 "nbformat_minor": 5
}
