{
 "cells": [
  {
   "cell_type": "markdown",
   "id": "064cfe45",
   "metadata": {},
   "source": []
  },
  {
   "cell_type": "code",
   "execution_count": 4,
   "id": "5db0e2f6",
   "metadata": {},
   "outputs": [
    {
     "name": "stdout",
     "output_type": "stream",
     "text": [
      "# conda environments:\r\n",
      "#\r\n",
      "base                     /Users/nirbhaisingh/opt/anaconda3\r\n",
      "books                    /Users/nirbhaisingh/opt/anaconda3/envs/books\r\n",
      "dpc2022               *  /Users/nirbhaisingh/opt/anaconda3/envs/dpc2022\r\n",
      "dsfs                     /Users/nirbhaisingh/opt/anaconda3/envs/dsfs\r\n",
      "dsfs-py-397              /Users/nirbhaisingh/opt/anaconda3/envs/dsfs-py-397\r\n",
      "dsfs-pycharm-310         /Users/nirbhaisingh/opt/anaconda3/envs/dsfs-pycharm-310\r\n",
      "\r\n"
     ]
    }
   ],
   "source": [
    "!conda info\n",
    "!conda env update --prune\n"
   ]
  },
  {
   "cell_type": "markdown",
   "id": "3c033e00",
   "metadata": {},
   "source": []
  }
 ],
 "metadata": {
  "kernelspec": {
   "display_name": "Python 3 (ipykernel)",
   "language": "python",
   "name": "python3"
  },
  "language_info": {
   "codemirror_mode": {
    "name": "ipython",
    "version": 3
   },
   "file_extension": ".py",
   "mimetype": "text/x-python",
   "name": "python",
   "nbconvert_exporter": "python",
   "pygments_lexer": "ipython3",
   "version": "3.9.7"
  }
 },
 "nbformat": 4,
 "nbformat_minor": 5
}
